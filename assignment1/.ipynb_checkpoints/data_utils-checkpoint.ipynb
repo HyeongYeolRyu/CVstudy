{
 "cells": [
  {
   "cell_type": "code",
   "execution_count": 3,
   "metadata": {},
   "outputs": [],
   "source": [
    "import numpy as np\n",
    "import cv2\n",
    "import os\n",
    "import pprint\n",
    "import sklearn.svm.libsvm as svm\n",
    "from matplotlib import pyplot as plt\n",
    "%matplotlib inline"
   ]
  },
  {
   "cell_type": "code",
   "execution_count": 1,
   "metadata": {},
   "outputs": [],
   "source": [
    "path = \"../FaceDatabase/Train/\"\n",
    "path_dir = os.listdir(path)\n",
    "id_s = [path + str(folder) for folder in path_dir]\n",
    "imgs = {} # keys: ID_1, ID_2 ... ID_7\n",
    "for i, id in enumerate(id_s):\n",
    "    img_names = os.listdir(id)\n",
    "    imgs[\"ID_\" + str(i+1)] =  [id + \"/\" + img for img in img_names]"
   ]
  },
  {
   "cell_type": "code",
   "execution_count": null,
   "metadata": {},
   "outputs": [],
   "source": [
    "face_cascade = cv2.CascadeClassifier(\"../face_recognizer_trained_file/haarcascade_frontalface_default.xml\")\n",
    "img = cv2.imread(imgs['ID_1'][0]) # sample img\n",
    "gray = cv2.cvtColor(img, cv2.COLOR_BGR2GRAY)\n",
    "faces = face_cascade.detectMultiScale(gray, 1.3, 5)"
   ]
  }
 ],
 "metadata": {
  "kernelspec": {
   "display_name": "Python 3",
   "language": "python",
   "name": "python3"
  },
  "language_info": {
   "codemirror_mode": {
    "name": "ipython",
    "version": 3
   },
   "file_extension": ".py",
   "mimetype": "text/x-python",
   "name": "python",
   "nbconvert_exporter": "python",
   "pygments_lexer": "ipython3",
   "version": "3.7.3"
  }
 },
 "nbformat": 4,
 "nbformat_minor": 2
}
